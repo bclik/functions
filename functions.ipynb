{
 "cells": [
  {
   "cell_type": "markdown",
   "metadata": {},
   "source": [
    "## 1. Soru"
   ]
  },
  {
   "cell_type": "code",
   "execution_count": 76,
   "metadata": {},
   "outputs": [
    {
     "name": "stdout",
     "output_type": "stream",
     "text": [
      "Siirdeki dize sayisi :  12\n"
     ]
    }
   ],
   "source": [
    "with open(\"ziyaa.txt\", \"r\", encoding='utf8') as f :\n",
    "    dizeler = f.readlines()\n",
    "print (\"Siirdeki dize sayisi : \", len(dizeler))\n",
    "\n",
    "\n",
    "for i in dizeler :\n",
    "    kelimeler = i.split()\n",
    "    with open (\"yenidosya.txt\",\"w\") as ff:\n",
    "        ff.write(kelimeler[0] )"
   ]
  },
  {
   "cell_type": "markdown",
   "metadata": {},
   "source": [
    " ## 2. soru"
   ]
  },
  {
   "cell_type": "code",
   "execution_count": 77,
   "metadata": {},
   "outputs": [],
   "source": [
    "def asal(sayi) :\n",
    "    \n",
    "    asal_sayilar = [2]\n",
    "    \n",
    "    if sayi < 2 :\n",
    "        \n",
    "        print (\"asal sayi bulunmamaktadır\")\n",
    "    elif sayi == 2:\n",
    "        \n",
    "        print (asal_sayilar)\n",
    "    else:\n",
    "        \n",
    "        for i in range(3,sayi):\n",
    "            \n",
    "            bolum = False\n",
    "            \n",
    "            for j in range(2,i):\n",
    "                \n",
    "                if i%j == 0 :\n",
    "                    \n",
    "                    bolum = True \n",
    "                    \n",
    "                    break\n",
    "                    \n",
    "            else:\n",
    "                \n",
    "                asal_sayilar.append(i)\n",
    "    \n",
    "    return asal_sayilar\n",
    "        "
   ]
  },
  {
   "cell_type": "code",
   "execution_count": 78,
   "metadata": {},
   "outputs": [
    {
     "data": {
      "text/plain": [
       "[2, 3, 5, 7, 11, 13, 17, 19]"
      ]
     },
     "execution_count": 78,
     "metadata": {},
     "output_type": "execute_result"
    }
   ],
   "source": [
    "asal(20)"
   ]
  },
  {
   "cell_type": "markdown",
   "metadata": {},
   "source": [
    "## Soru 3"
   ]
  },
  {
   "cell_type": "code",
   "execution_count": 79,
   "metadata": {},
   "outputs": [],
   "source": [
    "def unique_list (x):\n",
    "    uniq_list = []\n",
    "    for i in x :\n",
    "        if i not in uniq_list:\n",
    "            uniq_list.append(i)\n",
    "    \n",
    "    return uniq_list\n",
    "\n",
    "        \n",
    "    "
   ]
  },
  {
   "cell_type": "code",
   "execution_count": 80,
   "metadata": {},
   "outputs": [
    {
     "data": {
      "text/plain": [
       "[1, 2, 3, 4, 5, 6]"
      ]
     },
     "execution_count": 80,
     "metadata": {},
     "output_type": "execute_result"
    }
   ],
   "source": [
    "\n",
    "unique_list([1,2,2,3,3,3,4,4,4,4,5,5,5,5,5,6,6,6,6,6,6])\n"
   ]
  },
  {
   "cell_type": "markdown",
   "metadata": {},
   "source": [
    "## Soru 4"
   ]
  },
  {
   "cell_type": "code",
   "execution_count": 85,
   "metadata": {},
   "outputs": [
    {
     "name": "stdout",
     "output_type": "stream",
     "text": [
      "lütfen doğum tarihinizi belirtilen şekilde giriniz 'ay gün yıl':  30 09 1991\n",
      "28\n"
     ]
    }
   ],
   "source": [
    "from datetime import datetime, date\n",
    "\n",
    "dogum_yili = datetime.strptime(input(\"lütfen doğum tarihinizi belirtilen şekilde giriniz 'ay gün yıl':  \"), \"%d %m %Y\")\n",
    "\n",
    "def yas_hesaplama(dogum):\n",
    "    today = date.today()\n",
    "    return today.year - dogum.year - ((today.month, today.day) < (dogum.month, dogum.day))\n",
    "\n",
    "age = yas_hesaplama(dogum_yili)\n",
    "\n",
    "print(age)"
   ]
  },
  {
   "cell_type": "code",
   "execution_count": null,
   "metadata": {},
   "outputs": [],
   "source": []
  },
  {
   "cell_type": "code",
   "execution_count": null,
   "metadata": {},
   "outputs": [],
   "source": []
  }
 ],
 "metadata": {
  "kernelspec": {
   "display_name": "Python 3",
   "language": "python",
   "name": "python3"
  },
  "language_info": {
   "codemirror_mode": {
    "name": "ipython",
    "version": 3
   },
   "file_extension": ".py",
   "mimetype": "text/x-python",
   "name": "python",
   "nbconvert_exporter": "python",
   "pygments_lexer": "ipython3",
   "version": "3.7.6"
  }
 },
 "nbformat": 4,
 "nbformat_minor": 4
}
